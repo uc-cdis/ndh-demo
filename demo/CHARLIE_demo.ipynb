{
 "cells": [
  {
   "cell_type": "markdown",
   "metadata": {},
   "source": [
    "# NIAID DATA HUB: CHARLIE (MACS/WIHS) Data Analysis"
   ]
  },
  {
   "cell_type": "markdown",
   "metadata": {},
   "source": [
    "## Data Exploration using GraphQL queries (Python library)"
   ]
  },
  {
   "cell_type": "markdown",
   "metadata": {},
   "source": [
    "GraphQL queries can be used as a baseline to create high-level libraries and explore the metadata in BHC. The Python library created for this data analysis can be accessed from:\n",
    "\n",
    "https://github.com/uc-cdis/ndh-demo/blob/master/demo/ndh_analysis_functions.py"
   ]
  },
  {
   "cell_type": "code",
   "execution_count": null,
   "metadata": {
    "collapsed": true
   },
   "outputs": [],
   "source": [
    "%matplotlib inline\n",
    "import ndh_analysis_functions as ndh\n",
    "ndh.add_keys('secrets.txt')"
   ]
  },
  {
   "cell_type": "markdown",
   "metadata": {},
   "source": [
    "### Get summary metrics for each data type in the data model:"
   ]
  },
  {
   "cell_type": "code",
   "execution_count": null,
   "metadata": {
    "collapsed": false
   },
   "outputs": [],
   "source": [
    "ndh.query_summary_counts('ndh-CHARLIE')"
   ]
  },
  {
   "cell_type": "markdown",
   "metadata": {},
   "source": [
    "### Get summary counts for one specific variable:"
   ]
  },
  {
   "cell_type": "markdown",
   "metadata": {},
   "source": [
    "Visualize the counts we get for the HIV status variable:"
   ]
  },
  {
   "cell_type": "code",
   "execution_count": null,
   "metadata": {
    "collapsed": true
   },
   "outputs": [],
   "source": [
    "summary = ndh.query_summary_field(\"case\", \"hiv_status\")"
   ]
  },
  {
   "cell_type": "markdown",
   "metadata": {},
   "source": [
    "## CHARLIE SCIENTIFIC USER CASES"
   ]
  },
  {
   "cell_type": "markdown",
   "metadata": {},
   "source": [
    "The following part of the demo is focused on answering some specific scientific questions based on the data currently available at the **NIAID Data Hub**"
   ]
  },
  {
   "cell_type": "markdown",
   "metadata": {},
   "source": [
    "### **Scientific User Case 1:** Is the number of CD4 positive cells significantly different immediately after seropositive conversion?"
   ]
  },
  {
   "cell_type": "markdown",
   "metadata": {},
   "source": [
    "Compare the values for the **number of CD4 positive cells** between the last seronegative visit and the first seropositive visit. A **Wilcoxon rank-sum test** is applied to determine statistically significant differences. "
   ]
  },
  {
   "cell_type": "code",
   "execution_count": null,
   "metadata": {
    "collapsed": false
   },
   "outputs": [],
   "source": [
    "values = ndh.compare_lab_results(\"leu3n\", \"# of CD4 positive cells\")"
   ]
  },
  {
   "cell_type": "markdown",
   "metadata": {},
   "source": [
    "### **Scientific User Case 2:** Is the viral load significantly different immediately after seropositive conversion?"
   ]
  },
  {
   "cell_type": "markdown",
   "metadata": {},
   "source": [
    "Compare the values for the **viral load** between the last seronegative visit and the first seropositive visit. A **Wilcoxon rank-sum test** is applied to determine statistically significant differences."
   ]
  },
  {
   "cell_type": "code",
   "execution_count": null,
   "metadata": {
    "collapsed": false
   },
   "outputs": [],
   "source": [
    "values = ndh.compare_lab_results(\"viral_load\", \"Viral load (copies/ml)\")"
   ]
  },
  {
   "cell_type": "markdown",
   "metadata": {},
   "source": [
    "### Scientific User Case 3: Are viral load and CD4+ cells controlled when subject are HAART treated?"
   ]
  },
  {
   "cell_type": "markdown",
   "metadata": {},
   "source": [
    "Compare the values for the **viral load** and **CD4 positive cells** across the time in different visits to visualize the effect of HAART treatment. We compare values before/after first HAART treatment as well as 1, 2 and 3 years after that. A **Wilcoxon rank-sum test** is applied to determine statistically significant differences."
   ]
  },
  {
   "cell_type": "code",
   "execution_count": null,
   "metadata": {
    "collapsed": false
   },
   "outputs": [],
   "source": [
    "values = ndh.compare_after_haart(\"viral_load\", \"Viral load (copies/ml)\")\n",
    "values = ndh.compare_after_haart(\"leu3n\", \"# of CD4 positive cells\")"
   ]
  },
  {
   "cell_type": "markdown",
   "metadata": {},
   "source": [
    "### Scientific User Case 4: How survival change when using HAART treatment?"
   ]
  },
  {
   "cell_type": "markdown",
   "metadata": {},
   "source": [
    "Determine the **Kaplan-Meier survival curves** under the condition of **ever had HAART treatment**. Survival time is calculated as the different (in years) between first year seen seropositive and year of death (if vital status is not *Alive*)."
   ]
  },
  {
   "cell_type": "code",
   "execution_count": null,
   "metadata": {
    "collapsed": false
   },
   "outputs": [],
   "source": [
    "values = ndh.compare_survival(\"ehaart\", \"Survival curves based on HAART treatment\")"
   ]
  },
  {
   "cell_type": "code",
   "execution_count": null,
   "metadata": {
    "collapsed": true
   },
   "outputs": [],
   "source": []
  }
 ],
 "metadata": {
  "anaconda-cloud": {},
  "kernelspec": {
   "display_name": "Python [Root]",
   "language": "python",
   "name": "Python [Root]"
  },
  "language_info": {
   "codemirror_mode": {
    "name": "ipython",
    "version": 2
   },
   "file_extension": ".py",
   "mimetype": "text/x-python",
   "name": "python",
   "nbconvert_exporter": "python",
   "pygments_lexer": "ipython2",
   "version": "2.7.12"
  }
 },
 "nbformat": 4,
 "nbformat_minor": 1
}
