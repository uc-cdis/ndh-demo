{
 "cells": [
  {
   "cell_type": "markdown",
   "metadata": {},
   "source": [
    "# NIAID DATA HUB: Comparing DAIT vs DAIDS datasets"
   ]
  },
  {
   "cell_type": "markdown",
   "metadata": {},
   "source": [
    "## Data Exploration using GraphQL queries (Python library)"
   ]
  },
  {
   "cell_type": "code",
   "execution_count": null,
   "metadata": {
    "scrolled": true
   },
   "outputs": [],
   "source": [
    "%matplotlib inline\n",
    "!pip install matplotlib==2.2.4\n",
    "!pip install lifelines\n",
    "import ndh_analysis_functions as ndh\n",
    "ndh.add_keys('/home/jovyan/pd/credentials.json')"
   ]
  },
  {
   "cell_type": "markdown",
   "metadata": {},
   "source": [
    "### Get summary metrics for each data type in the data model:"
   ]
  },
  {
   "cell_type": "code",
   "execution_count": null,
   "metadata": {},
   "outputs": [],
   "source": [
    "ndh.query_summary_counts()"
   ]
  },
  {
   "cell_type": "markdown",
   "metadata": {},
   "source": [
    "### Get summary counts for one specific variable:"
   ]
  },
  {
   "cell_type": "markdown",
   "metadata": {},
   "source": [
    "Visualize summary counts for any clinical variable across projects:"
   ]
  },
  {
   "cell_type": "code",
   "execution_count": null,
   "metadata": {},
   "outputs": [],
   "source": [
    "summary = ndh.query_summary_field(\"race\", \"demographic\")\n",
    "summary = ndh.query_summary_field(\"gender\", \"demographic\")"
   ]
  },
  {
   "cell_type": "markdown",
   "metadata": {},
   "source": [
    "Visualize distribution values for one variable in one project"
   ]
  },
  {
   "cell_type": "code",
   "execution_count": null,
   "metadata": {
    "scrolled": true
   },
   "outputs": [],
   "source": [
    "values = ndh.field_distribution(\"chol\", \"summary_lab_result\", \"DAIT-immune_controls\")\n",
    "values = ndh.field_distribution(\"hdlchol\", \"summary_lab_result\", \"DAIT-immune_controls\")"
   ]
  },
  {
   "cell_type": "markdown",
   "metadata": {},
   "source": [
    "## DAIT SCIENTIFIC USER CASES"
   ]
  },
  {
   "cell_type": "markdown",
   "metadata": {},
   "source": [
    "The following part of the demo is focused on answering some specific scientific questions based on the data currently available at the **NIAID Data Hub**"
   ]
  },
  {
   "cell_type": "markdown",
   "metadata": {},
   "source": [
    "### **Scientific User Case 1:** Visualize lipids record across different projects"
   ]
  },
  {
   "cell_type": "markdown",
   "metadata": {},
   "source": [
    "**1. Total Cholesterol vs Age and Gender**"
   ]
  },
  {
   "cell_type": "code",
   "execution_count": null,
   "metadata": {},
   "outputs": [],
   "source": [
    "projects = [\"DAIT-immune_controls\"]; visits = [1]\n",
    "data = ndh.plot_lab_results(\"chol\", \"gender\", projects, visits)\n",
    "projects = [\"DAIT-immune_controls\",\"HIV-CHARLIE\"]; visits = [1,[15,520]]\n",
    "data = ndh.plot_lab_results(\"chol\", \"gender\", projects, visits)\n",
    "#data = ndh.plot_lab_results(\"hdlchol\", \"gender\", projects, visits)"
   ]
  },
  {
   "cell_type": "markdown",
   "metadata": {},
   "source": [
    "**2. HDL Cholesterol vs Age/Gender**"
   ]
  },
  {
   "cell_type": "code",
   "execution_count": null,
   "metadata": {},
   "outputs": [],
   "source": [
    "projects = [\"DAIT-immune_controls\"]; visits = [\"1\"]\n",
    "data = ndh.plot_lab_results(\"hdlchol\", \"gender\", projects, visits)\n",
    "projects = [\"DAIT-immune_controls\",\"HIV-CHARLIE\"]; visits = [1,[15,520]]\n",
    "data = ndh.plot_lab_results(\"hdlchol\", \"gender\", projects, visits)\n",
    "#data = ndh.plot_lab_results(\"hdlchol\", \"gender\", projects, visits)"
   ]
  },
  {
   "cell_type": "markdown",
   "metadata": {},
   "source": [
    "**3. Total Cholesterol vs Race**"
   ]
  },
  {
   "cell_type": "code",
   "execution_count": null,
   "metadata": {},
   "outputs": [],
   "source": [
    "projects = [\"DAIT-immune_controls\"]; visits = [\"1\"]\n",
    "data = ndh.plot_lab_results(\"chol\", \"race\", projects, visits)\n",
    "projects = [\"DAIT-immune_controls\", \"HIV-CHARLIE\"]; visits = [\"1\", \"[15,520]\"]\n",
    "data = ndh.plot_lab_results(\"chol\", \"race\", projects, visits)"
   ]
  },
  {
   "cell_type": "markdown",
   "metadata": {},
   "source": [
    "**4. HDL Cholesterol vs Race**"
   ]
  },
  {
   "cell_type": "code",
   "execution_count": null,
   "metadata": {},
   "outputs": [],
   "source": [
    "projects = [\"DAIT-immune_controls\"]; visits = [\"1\"]\n",
    "data = ndh.plot_lab_results(\"hdlchol\", \"race\", projects, visits)\n",
    "projects = [\"DAIT-immune_controls\", \"HIV-CHARLIE\"]; visits = [\"1\", \"[15,520]\"]\n",
    "data = ndh.plot_lab_results(\"hdlchol\", \"race\", projects, visits)"
   ]
  },
  {
   "cell_type": "markdown",
   "metadata": {},
   "source": [
    "\n",
    "\n"
   ]
  }
 ],
 "metadata": {
  "anaconda-cloud": {},
  "kernelspec": {
   "display_name": "Python 3",
   "language": "python",
   "name": "python3"
  },
  "language_info": {
   "codemirror_mode": {
    "name": "ipython",
    "version": 3
   },
   "file_extension": ".py",
   "mimetype": "text/x-python",
   "name": "python",
   "nbconvert_exporter": "python",
   "pygments_lexer": "ipython3",
   "version": "3.7.3"
  }
 },
 "nbformat": 4,
 "nbformat_minor": 4
}
