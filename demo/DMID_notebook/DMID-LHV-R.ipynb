{
 "cells": [
  {
   "cell_type": "markdown",
   "metadata": {},
   "source": [
    "# NIAID DATA HUB: DMID-LHV Data Analysis"
   ]
  },
  {
   "cell_type": "markdown",
   "metadata": {},
   "source": [
    "### DMID-LHV Scientific User Cases"
   ]
  },
  {
   "cell_type": "markdown",
   "metadata": {},
   "source": [
    "The following part of the demo is focused on answering some specific scientific questions based on the data currently available at the NIAID Data Hub"
   ]
  },
  {
   "cell_type": "markdown",
   "metadata": {},
   "source": [
    "#### Install and require dependent packages"
   ]
  },
  {
   "cell_type": "code",
   "execution_count": null,
   "metadata": {},
   "outputs": [],
   "source": [
    "source(\"ndh_analysis_function_dmid.r\")"
   ]
  },
  {
   "cell_type": "markdown",
   "metadata": {},
   "source": [
    "#### Scientific User Case 2.1: RNA-microarray differential gene expression time course analysis on virus infection "
   ]
  },
  {
   "cell_type": "markdown",
   "metadata": {},
   "source": [
    "#### Query meta data for study ECL001"
   ]
  },
  {
   "cell_type": "code",
   "execution_count": null,
   "metadata": {
    "scrolled": true
   },
   "outputs": [],
   "source": [
    "parse_cell_file(\"ECL001\",\"RNA\",\"mrna_microarrays\")"
   ]
  },
  {
   "cell_type": "markdown",
   "metadata": {},
   "source": [
    "#### Download mRNA_microarray files for study ECL001"
   ]
  },
  {
   "cell_type": "code",
   "execution_count": null,
   "metadata": {},
   "outputs": [],
   "source": [
    "download_data(\"ECL001\",\"RNA\",\"mrna_microarrays\")"
   ]
  },
  {
   "cell_type": "markdown",
   "metadata": {},
   "source": [
    "#### Perform differential gene expression analysis for study ECL001. \"HuCoV_EMC_NA\" infection vs Control is compared across all timepoints except for 18h, save the result as \"ECL001.mock_NAvsHuCoV_EMC_NA.DE.txt\""
   ]
  },
  {
   "cell_type": "code",
   "execution_count": null,
   "metadata": {},
   "outputs": [],
   "source": [
    "DE_gene(\"ECL001\",c(\"mock_NA\",\"HuCoV_EMC_NA\"),c(18))"
   ]
  },
  {
   "cell_type": "markdown",
   "metadata": {},
   "source": [
    "#### Parse meta data, download files and perform DE gene analysis for other studies"
   ]
  },
  {
   "cell_type": "code",
   "execution_count": null,
   "metadata": {},
   "outputs": [],
   "source": [
    "parse_cell_file(\"ICL004\",\"RNA\",\"mrna_microarrays\")\n",
    "download_data(\"ICL004\",\"RNA\",\"mrna_microarrays\")\n",
    "DE_gene(\"ICL004\",c(\"mock_NA\",\"VN1203_NA\"))"
   ]
  },
  {
   "cell_type": "code",
   "execution_count": null,
   "metadata": {},
   "outputs": [],
   "source": [
    "parse_cell_file(\"ICL006\",\"RNA\",\"mrna_microarrays\")\n",
    "download_data(\"ICL006\",\"RNA\",\"mrna_microarrays\")\n",
    "DE_gene(\"ICL006\",c(\"mock_NA\",\"CA04_NA\"))"
   ]
  },
  {
   "cell_type": "code",
   "execution_count": null,
   "metadata": {},
   "outputs": [],
   "source": [
    "parse_cell_file(\"SCL005\",\"RNA\",\"mrna_microarrays\")\n",
    "download_data(\"SCL005\",\"RNA\",\"mrna_microarrays\")\n",
    "DE_gene(\"SCL005\",c(\"mock_NA\",\"SARS_CoV_NA\"))"
   ]
  },
  {
   "cell_type": "markdown",
   "metadata": {},
   "source": [
    "#### Scientific User Case 2.2: Select ISG genes and plot heatmap in individual study"
   ]
  },
  {
   "cell_type": "markdown",
   "metadata": {},
   "source": [
    "#### Select ISG genes ( \"CalU3_TypeI_ISG.txt\") from \"ICL004.mock_NAvsVN1203_NA.DE.txt\", save the result as \"ICL004.mock_NAvsVN1203_NA.DE.ISG.txt\""
   ]
  },
  {
   "cell_type": "code",
   "execution_count": null,
   "metadata": {},
   "outputs": [],
   "source": [
    "Select_ISG(\"CalU3_TypeI_ISG.txt\",\"ICL004.mock_NAvsVN1203_NA.DE.txt\")"
   ]
  },
  {
   "cell_type": "markdown",
   "metadata": {},
   "source": [
    "#### Plot heatmap using \"ICL004.mock_NAvsVN1203_NA.DE.ISG.txt\" as input"
   ]
  },
  {
   "cell_type": "code",
   "execution_count": null,
   "metadata": {},
   "outputs": [],
   "source": [
    "headmap_plot(\"ICL004.mock_NAvsVN1203_NA.DE.ISG.txt\")"
   ]
  },
  {
   "cell_type": "markdown",
   "metadata": {},
   "source": [
    "#### Examples for other studies"
   ]
  },
  {
   "cell_type": "code",
   "execution_count": null,
   "metadata": {},
   "outputs": [],
   "source": [
    "Select_ISG(\"CalU3_TypeI_ISG.txt\",\"ECL001.mock_NAvsHuCoV_EMC_NA.DE.txt\")\n",
    "headmap_plot(\"ECL001.mock_NAvsHuCoV_EMC_NA.DE.ISG.txt\")"
   ]
  },
  {
   "cell_type": "code",
   "execution_count": null,
   "metadata": {},
   "outputs": [],
   "source": [
    "Select_ISG(\"CalU3_TypeI_ISG.txt\",\"ICL006.mock_NAvsCA04_NA.DE.txt\")\n",
    "headmap_plot(\"ICL006.mock_NAvsCA04_NA.DE.ISG.txt\")"
   ]
  },
  {
   "cell_type": "code",
   "execution_count": null,
   "metadata": {},
   "outputs": [],
   "source": [
    "Select_ISG(\"CalU3_TypeI_ISG.txt\",\"SCL005.mock_NAvsSARS_CoV_NA.DE.txt\")\n",
    "headmap_plot(\"SCL005.mock_NAvsSARS_CoV_NA.DE.ISG.txt\")"
   ]
  },
  {
   "cell_type": "markdown",
   "metadata": {},
   "source": [
    "#### Scientific User Case 2.3: Select ISG genes and plot heatmap to compare type I Interferon response among virus"
   ]
  },
  {
   "cell_type": "markdown",
   "metadata": {},
   "source": [
    "#### Find commonly analysed ISG genes in studies ICL004, ICL006, ECL001 and SCL005"
   ]
  },
  {
   "cell_type": "code",
   "execution_count": null,
   "metadata": {},
   "outputs": [],
   "source": [
    "common_ISG(\"CalU3_TypeI_ISG.txt\",c(\"ICL004.mock_NAvsVN1203_NA.DE.txt\",\"ICL006.mock_NAvsCA04_NA.DE.txt\",\"SCL005.mock_NAvsSARS_CoV_NA.DE.txt\",\"ECL001.mock_NAvsHuCoV_EMC_NA.DE.txt\"))"
   ]
  },
  {
   "cell_type": "markdown",
   "metadata": {},
   "source": [
    "#### Rank ISG signatures. All the signatures were catagorized into three groups: commonly down-regulated in ICL004 and ECL001, down-regulated in ICL004 only and the rest group. Within each group, genes are ranked from smallest to largest at the last timepoint in ICL004."
   ]
  },
  {
   "cell_type": "code",
   "execution_count": null,
   "metadata": {},
   "outputs": [],
   "source": [
    "order_ISG(\"ICL004.mock_NAvsVN1203_NA.DE.ISG_common.txt\",\"ECL001.mock_NAvsHuCoV_EMC_NA.DE.ISG_common.txt\")"
   ]
  },
  {
   "cell_type": "markdown",
   "metadata": {},
   "source": [
    "#### Plot heatmap for studies ICL006, ICL004, SCL005 and ECL001\n"
   ]
  },
  {
   "cell_type": "code",
   "execution_count": null,
   "metadata": {},
   "outputs": [],
   "source": [
    "heatmap_plot_across(c(\"ICL006.mock_NAvsCA04_NA.DE.ISG_common.txt\",\"ICL004.mock_NAvsVN1203_NA.DE.ISG_common.txt\",\"SCL005.mock_NAvsSARS_CoV_NA.DE.ISG_common.txt\",\"ECL001.mock_NAvsHuCoV_EMC_NA.DE.ISG_common.txt\"),\"ICL004.mock_NAvsVN1203_NA.DE.ISG_common.txt\",\"ECL001.mock_NAvsHuCoV_EMC_NA.DE.ISG_common.txt\")"
   ]
  },
  {
   "cell_type": "markdown",
   "metadata": {},
   "source": [
    "#### Plot signle heatmap and save in png format with high resolution"
   ]
  },
  {
   "cell_type": "code",
   "execution_count": null,
   "metadata": {},
   "outputs": [],
   "source": [
    "heatmap_plot_single(\"ECL001.mock_NAvsHuCoV_EMC_NA.DE.ISG_common.txt\",\"ICL004.mock_NAvsVN1203_NA.DE.ISG_common.txt\",\"ECL001.mock_NAvsHuCoV_EMC_NA.DE.ISG_common.txt\")"
   ]
  },
  {
   "cell_type": "code",
   "execution_count": null,
   "metadata": {},
   "outputs": [],
   "source": [
    "heatmap_plot_single(\"ICL006.mock_NAvsCA04_NA.DE.ISG_common.txt\",\"ICL004.mock_NAvsVN1203_NA.DE.ISG_common.txt\",\"ECL001.mock_NAvsHuCoV_EMC_NA.DE.ISG_common.txt\")"
   ]
  },
  {
   "cell_type": "code",
   "execution_count": null,
   "metadata": {},
   "outputs": [],
   "source": [
    "heatmap_plot_single(\"ICL004.mock_NAvsVN1203_NA.DE.ISG_common.txt\",\"ICL004.mock_NAvsVN1203_NA.DE.ISG_common.txt\",\"ECL001.mock_NAvsHuCoV_EMC_NA.DE.ISG_common.txt\")"
   ]
  },
  {
   "cell_type": "code",
   "execution_count": null,
   "metadata": {},
   "outputs": [],
   "source": [
    "heatmap_plot_single(\"SCL005.mock_NAvsSARS_CoV_NA.DE.ISG_common.txt\",\"ICL004.mock_NAvsVN1203_NA.DE.ISG_common.txt\",\"ECL001.mock_NAvsHuCoV_EMC_NA.DE.ISG_common.txt\")"
   ]
  },
  {
   "cell_type": "markdown",
   "metadata": {},
   "source": [
    "<br>"
   ]
  },
  {
   "cell_type": "markdown",
   "metadata": {},
   "source": [
    "#### Scientific User case 3.1: Veen diagram plot for differential expression proteins and ISG signatures"
   ]
  },
  {
   "cell_type": "markdown",
   "metadata": {},
   "source": [
    "#### Query meta data and download protein quantifiation file"
   ]
  },
  {
   "cell_type": "code",
   "execution_count": null,
   "metadata": {},
   "outputs": [],
   "source": [
    "parse_cell_file(\"ICL006\",\"protein\",\"protein_expressions\")\n",
    "download_data(\"ICL006\",\"protein\",\"protein_expressions\")"
   ]
  },
  {
   "cell_type": "markdown",
   "metadata": {},
   "source": [
    "#### T-test and G-test differential expression protein analysis for study ICL006"
   ]
  },
  {
   "cell_type": "code",
   "execution_count": null,
   "metadata": {
    "scrolled": true
   },
   "outputs": [],
   "source": [
    "protein_DE_test(\"ICL006\")"
   ]
  },
  {
   "cell_type": "markdown",
   "metadata": {},
   "source": [
    "#### Plot Veen diagram for significantly differentially expressed proteins and ISG signatures for study ICL006"
   ]
  },
  {
   "cell_type": "code",
   "execution_count": null,
   "metadata": {},
   "outputs": [],
   "source": [
    "ISG_DE_protein(\"ICL006\",\"CalU3_TypeI_ISG.txt\")"
   ]
  },
  {
   "cell_type": "markdown",
   "metadata": {},
   "source": [
    "#### Veen diagram plot for other studies"
   ]
  },
  {
   "cell_type": "code",
   "execution_count": null,
   "metadata": {},
   "outputs": [],
   "source": [
    "parse_cell_file(\"ICL004\",\"protein\",\"protein_expressions\")\n",
    "download_data(\"ICL004\",\"protein\",\"protein_expressions\")\n",
    "protein_DE_test(\"ICL004\",3)\n",
    "ISG_DE_protein(\"ICL004\",\"CalU3_TypeI_ISG.txt\")"
   ]
  },
  {
   "cell_type": "code",
   "execution_count": null,
   "metadata": {},
   "outputs": [],
   "source": [
    "parse_cell_file(\"SCL005\",\"protein\",\"protein_expressions\")\n",
    "download_data(\"SCL005\",\"protein\",\"protein_expressions\")\n",
    "protein_DE_test(\"SCL005\")\n",
    "ISG_DE_protein(\"SCL005\",\"CalU3_TypeI_ISG.txt\")"
   ]
  }
 ],
 "metadata": {
  "kernelspec": {
   "display_name": "R",
   "language": "R",
   "name": "ir"
  },
  "language_info": {
   "codemirror_mode": "r",
   "file_extension": ".r",
   "mimetype": "text/x-r-source",
   "name": "R",
   "pygments_lexer": "r",
   "version": "3.6.0"
  }
 },
 "nbformat": 4,
 "nbformat_minor": 4
}
