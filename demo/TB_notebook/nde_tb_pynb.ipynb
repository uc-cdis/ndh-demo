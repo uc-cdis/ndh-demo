{
 "cells": [
  {
   "cell_type": "markdown",
   "metadata": {},
   "source": [
    "# NIAID DATA HUB: Mycobacteria drug resistance prediction\n",
    "---\n",
    "## Setup\n",
    "---\n",
    "We are using Gen3 SDK to query structure data and retrieve object data. After installing the gen3 package using pip and using the import statements to import the classes and functions from the package, we need to set and endpoint variable and an auth variable to initialize instances of the classes we just imported. The endpoint should be the url of the commons you would like to interact with, and the refresh_file should contain your API key, which you can obtain by logging into the commons and going to the **Profile** page to create an API key."
   ]
  },
  {
   "cell_type": "code",
   "execution_count": null,
   "metadata": {},
   "outputs": [],
   "source": [
    "# installing packages\n",
    "!pip install gen3\n",
    "!pip install --force --upgrade gen3\n",
    "!pip install flatten_json\n",
    "!pip install pandas\n",
    "!pip install requests\n",
    "!pip install sh\n",
    "from gen3.auth import Gen3Auth\n",
    "from gen3.submission import Gen3Submission\n",
    "from gen3.file import Gen3File\n",
    "import subprocess\n",
    "import pandas as pd\n",
    "import nde_tb_function as nde"
   ]
  },
  {
   "cell_type": "code",
   "execution_count": null,
   "metadata": {},
   "outputs": [],
   "source": [
    "endpoint = \"https://tb.niaiddata.org/\"\n",
    "auth = Gen3Auth(endpoint, refresh_file = \"/home/jovyan/pd/credentials.json\")\n",
    "sub = Gen3Submission(endpoint, auth)\n",
    "file = Gen3File(endpoint, auth)"
   ]
  },
  {
   "cell_type": "markdown",
   "metadata": {},
   "source": [
    "## Query\n",
    "We will use Gen3 Python SDK to run GraphQL queries on NIAID Data Hub using the Gen3Submission class. You can pass your query as a string and use the Gen3Submission.query() function to receive the results of your query."
   ]
  },
  {
   "cell_type": "code",
   "execution_count": null,
   "metadata": {},
   "outputs": [],
   "source": [
    "object_dict = nde.query_file(\"TB-PATRIC\",10,2,{\"isoniazid_res_phenotype\":\"Resistant\",\"amikacin_res_phenotype\":\"Resistant\"})"
   ]
  },
  {
   "cell_type": "code",
   "execution_count": null,
   "metadata": {},
   "outputs": [],
   "source": [
    "df = nde.parse_json(object_dict,10)"
   ]
  },
  {
   "cell_type": "markdown",
   "metadata": {},
   "source": [
    "### Run Ariba for drug resistance prediction\n",
    "We are getting reference data from CARD as an example. Ariba getref generates reference fasta file and reference metadata file for drug resistance prediction. User can use customized reference fasta file and reference metadata file to improve prediction accuracy."
   ]
  },
  {
   "cell_type": "code",
   "execution_count": null,
   "metadata": {},
   "outputs": [],
   "source": [
    "subprocess.run([\"ariba\",\"getref\",\"card\",\"/home/jovyan/pd/nb_output/tb/ariba/reference\"])"
   ]
  },
  {
   "cell_type": "markdown",
   "metadata": {},
   "source": [
    "After getting reference fasta and reference metadata files, Ariba prepareref generates gene clusters or variants clusters"
   ]
  },
  {
   "cell_type": "code",
   "execution_count": null,
   "metadata": {},
   "outputs": [],
   "source": [
    "subprocess.run([\"ariba\",\"prepareref\",\"-f\",\"/home/jovyan/pd/nb_output/tb/ariba/reference.fa\",\"-m\",\"/home/jovyan/pd/nb_output/tb/ariba/reference.tsv\",\"/home/jovyan/pd/nb_output/tb/ariba/prepareref.out\"])"
   ]
  },
  {
   "cell_type": "markdown",
   "metadata": {},
   "source": [
    "Ariba run runs local assembly to map raw sequences to gene clusters/variant clusters conveying drug resistance"
   ]
  },
  {
   "cell_type": "code",
   "execution_count": null,
   "metadata": {},
   "outputs": [],
   "source": [
    "nde.runAriba(df)"
   ]
  },
  {
   "cell_type": "markdown",
   "metadata": {},
   "source": [
    "Ariba summary creates a summary matrix from individual report files to give an overview of gene cluster/variant clusters occurrance among all the samples tested."
   ]
  },
  {
   "cell_type": "code",
   "execution_count": null,
   "metadata": {},
   "outputs": [],
   "source": [
    "nde.extract_ariba_predict(\"/home/jovyan/pd/nb_output/tb/ariba/output\")"
   ]
  },
  {
   "cell_type": "markdown",
   "metadata": {},
   "source": [
    "### Run Mykrobe for drug resistance prediction"
   ]
  },
  {
   "cell_type": "code",
   "execution_count": null,
   "metadata": {},
   "outputs": [],
   "source": [
    "nde.runMykrobe(df)"
   ]
  },
  {
   "cell_type": "markdown",
   "metadata": {},
   "source": [
    "#### Extract Mykrobe resistant prediction "
   ]
  },
  {
   "cell_type": "code",
   "execution_count": null,
   "metadata": {},
   "outputs": [],
   "source": [
    "nde.extract_mykrobe_predict(df)"
   ]
  },
  {
   "cell_type": "markdown",
   "metadata": {},
   "source": [
    "###  Submission of Ariba and Mykrobe to Sheepdog"
   ]
  },
  {
   "cell_type": "code",
   "execution_count": null,
   "metadata": {},
   "outputs": [],
   "source": [
    "data = nde.extract_ariba_predict(\"/home/jovyan/pd/nb_output/tb/ariba/output\")\n",
    "nde.submit_results(data,\"Ariba\")"
   ]
  }
 ],
 "metadata": {
  "kernelspec": {
   "display_name": "Python 3",
   "language": "python",
   "name": "python3"
  },
  "language_info": {
   "codemirror_mode": {
    "name": "ipython",
    "version": 3
   },
   "file_extension": ".py",
   "mimetype": "text/x-python",
   "name": "python",
   "nbconvert_exporter": "python",
   "pygments_lexer": "ipython3",
   "version": "3.7.3"
  }
 },
 "nbformat": 4,
 "nbformat_minor": 4
}
